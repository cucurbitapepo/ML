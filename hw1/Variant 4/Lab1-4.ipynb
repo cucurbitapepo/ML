{
 "cells": [
  {
   "cell_type": "markdown",
   "id": "ec6e7d18-6a6e-4a51-a7cd-0a1152604973",
   "metadata": {},
   "source": [
    "## Лабораторная работа №1 | Вариант 4"
   ]
  },
  {
   "cell_type": "markdown",
   "id": "277877ce-f982-4711-a6a6-2a4a90871409",
   "metadata": {},
   "source": [
    "Выполнил: Недавний А., 311"
   ]
  },
  {
   "cell_type": "markdown",
   "id": "031f025d-84dc-470f-b839-456a76d9636b",
   "metadata": {},
   "source": [
    "### 1. Numpy"
   ]
  },
  {
   "cell_type": "code",
   "id": "8a2c6f8d-e85b-4982-ba6d-77ffdb7d53e8",
   "metadata": {},
   "source": [
    "import numpy as np"
   ],
   "outputs": [],
   "execution_count": null
  },
  {
   "cell_type": "markdown",
   "id": "6ff3559d-5f3e-4540-9a31-bfb9f42a23da",
   "metadata": {},
   "source": [
    "1. Найти индексы не нулевых элементов массива [1,2,0,0,4,0]"
   ]
  },
  {
   "cell_type": "code",
   "id": "752bc586-1e3f-4085-85c3-4068b781314f",
   "metadata": {},
   "source": [
    "arr = [1, 2, 0, 0, 4, 0]\n",
    "print(np.nonzero(arr)[0])"
   ],
   "outputs": [],
   "execution_count": null
  },
  {
   "cell_type": "markdown",
   "id": "0243a0f6-1905-4e2d-9572-9ba49dc003a8",
   "metadata": {},
   "source": [
    "2. Создайте единичную матрицу размером 3х3"
   ]
  },
  {
   "cell_type": "code",
   "id": "ec6ae581-5adf-459c-bdc7-8b015d9529f6",
   "metadata": {},
   "source": [
    "np.eye(3)"
   ],
   "outputs": [],
   "execution_count": null
  },
  {
   "cell_type": "markdown",
   "id": "8c7d3811-a555-4c02-ada8-e4a70b9dee46",
   "metadata": {},
   "source": [
    "3. Создайте матрицу-шахматную доску 8х8 используя функцию `tile`"
   ]
  },
  {
   "cell_type": "code",
   "id": "12d0ed34-908c-4840-8b81-457e64dd7b0b",
   "metadata": {},
   "source": [
    "np.tile([[1, 0], [0, 1]], (4, 4))"
   ],
   "outputs": [],
   "execution_count": null
  },
  {
   "cell_type": "markdown",
   "id": "b7ca56e6-a194-4c42-b8a2-307fcf40f648",
   "metadata": {},
   "source": [
    "4. Дан 1D массив, удалите все элементы которые входят в диапазон `[3, 8]` inplace"
   ]
  },
  {
   "cell_type": "code",
   "id": "1b1d64cd-0e28-400f-8d49-a1274947e150",
   "metadata": {},
   "source": [
    "arr = [0, 4, 4, 2, 1, 4, 8, 7, 10, 15]\n",
    "np_arr = np.array(arr)\n",
    "np_arr = np_arr[(np_arr < 3) | (np_arr > 8)]"
   ],
   "outputs": [],
   "execution_count": null
  },
  {
   "cell_type": "markdown",
   "id": "b3b2cd1e-e996-45e0-b9ed-e12ce653a9c3",
   "metadata": {},
   "source": [
    "5. Создайте случайный вектор размером 10 элементов и замените максимальный элемент на 0"
   ]
  },
  {
   "cell_type": "code",
   "id": "c40ef785-d750-42ba-ac6e-b777866202a6",
   "metadata": {},
   "source": [
    "random_vec = np.random.randint(0, 100, 10)\n",
    "print (random_vec)\n",
    "random_vec[np.argmax(random_vec)] = 0\n",
    "print (random_vec)"
   ],
   "outputs": [],
   "execution_count": null
  },
  {
   "cell_type": "markdown",
   "id": "8108b3a8-5ba8-472d-ad6b-095ade8678ef",
   "metadata": {},
   "source": [
    "6. Как распечатать все значения в массиве?"
   ]
  },
  {
   "cell_type": "code",
   "id": "89b58c0a-bd5d-435a-be45-719fdfce662a",
   "metadata": {},
   "source": [
    "np.set_printoptions(threshold=np.inf)\n",
    "arr = np.arange(1000)\n",
    "print(arr)"
   ],
   "outputs": [],
   "execution_count": null
  },
  {
   "cell_type": "markdown",
   "id": "98511652-db85-4506-a5b8-f94b05d35ce9",
   "metadata": {},
   "source": [
    "7. Рассмотрим случайный вектор с формой 100х2, представляющей координаты, и найдем расстояния от точки к точке"
   ]
  },
  {
   "cell_type": "code",
   "id": "ca72cdb0-ed24-460d-81a9-220b850d62c3",
   "metadata": {},
   "source": [
    "coords = np.random.rand(100, 2)\n",
    "print(np.sqrt(np.sum((coords[:, None, :] - coords[None, :, :]) ** 2, axis=-1)))"
   ],
   "outputs": [],
   "execution_count": null
  },
  {
   "cell_type": "markdown",
   "id": "1412a70a-2a1e-406e-a227-afc9a47ed659",
   "metadata": {},
   "source": [
    "8. Как конвертировать массив float(32 bit) к массиву целых чисел (integer 32 bit) in place?"
   ]
  },
  {
   "cell_type": "code",
   "id": "22bb8bbf-52dd-4d3c-86c0-c4e9637b909b",
   "metadata": {},
   "source": [
    "float_arr = np.random.rand(10).astype(np.float32)\n",
    "int_arr = float_arr.astype(np.int32, copy=False)"
   ],
   "outputs": [],
   "execution_count": null
  },
  {
   "cell_type": "markdown",
   "id": "f7dc66bf-f7c8-4d78-834b-451651f6839a",
   "metadata": {},
   "source": [
    "9. Как прочитать заданный файл?\n",
    "```\n",
    "1, 2, 3, 4, 5\n",
    "6,  ,  , 7, 8\n",
    " ,  , 9,10,11\n",
    "```"
   ]
  },
  {
   "cell_type": "markdown",
   "id": "ca29b931",
   "metadata": {},
   "source": [
    "будем считать что данные лежат в файле file.txt в одной директории с ipynb"
   ]
  },
  {
   "cell_type": "code",
   "id": "0ecf5586-d30e-4256-ab93-7ff9bab0b34b",
   "metadata": {},
   "source": [
    "data = np.genfromtxt(\"file.txt\", delimiter=',', dtype=float, missing_values='', filling_values=np.nan)\n",
    "print(data)"
   ],
   "outputs": [],
   "execution_count": null
  },
  {
   "cell_type": "markdown",
   "id": "a66194f1-0099-4808-8ebf-5cf10eee5071",
   "metadata": {},
   "source": [
    "10. Какой эквивалент enumerate для numpy массивов?"
   ]
  },
  {
   "cell_type": "code",
   "id": "07ed452c-3f7c-40a7-a5b5-716602a5eed9",
   "metadata": {},
   "source": [
    "arr = np.array([1, 2, 3, 4, 10, 5, 11])\n",
    "for index, value in np.ndenumerate(arr):\n",
    "    ..."
   ],
   "outputs": [],
   "execution_count": null
  },
  {
   "cell_type": "markdown",
   "id": "5bd0f757-bb01-4afb-b4f0-6821b5c5b2b7",
   "metadata": {},
   "source": [
    "### 2. Pandas"
   ]
  },
  {
   "cell_type": "markdown",
   "id": "bdffd013-e573-4318-8062-65ae1c5e07e8",
   "metadata": {},
   "source": [
    "Найдите ответы на вопросы или выполните действия с предложенным датасетом \n",
    "\n",
    "Файл: `russian-housing-market.csv`\n",
    "\n",
    "```\n",
    "price_doc - Цена продажи\n",
    "id - Id транзакции\n",
    "timestamp - Дата транзакции\n",
    "full_sq - суммарная площадь в квадратных метрах, включая лоджию, валконы и отдельные нежилые помещения\n",
    "life_sq - жилая площаль в квадратных метрах, исключая лоджии, балконы и прочие нежилые помещения\n",
    "floor - для апартаментов, этаж помещения\n",
    "max_floor - количество этажей в здании\n",
    "material - материал стен\n",
    "build_year - год постройки\n",
    "num_room - количество жилых комнат\n",
    "kitch_sq - площадь кухни\n",
    "state - состояние апартаментов\n",
    "product_type - покупка или инвестиция собственника-арендатора\n",
    "sub_area - название района\n",
    "```"
   ]
  },
  {
   "cell_type": "code",
   "id": "0778ec2b-a7b2-4738-b771-bb1781986f62",
   "metadata": {},
   "source": [
    "import pandas as pd"
   ],
   "outputs": [],
   "execution_count": null
  },
  {
   "cell_type": "code",
   "id": "bfc45614-d44b-49bd-a55c-c410a95a808f",
   "metadata": {},
   "source": [
    "data_set = pd.read_csv(\"russian-housing-market.csv\")"
   ],
   "outputs": [],
   "execution_count": null
  },
  {
   "cell_type": "markdown",
   "id": "1026e8c6-513a-41e3-b2f4-68aae18b8435",
   "metadata": {},
   "source": [
    "1. Посчитайте количество записей в датасете с отсутствующей информацией о жилой площади жилого помещения"
   ]
  },
  {
   "cell_type": "code",
   "id": "e74655aa-b97c-42e5-b972-e0753ddc2331",
   "metadata": {},
   "source": [
    "missing_life_sq_cnt = data_set[\"life_sq\"].isnull().sum()"
   ],
   "outputs": [],
   "execution_count": null
  },
  {
   "cell_type": "markdown",
   "id": "eee028a5-9311-4a4f-b4ac-1fb75acfb4b3",
   "metadata": {},
   "source": [
    "2. Предложите способ заменить отсутствующие значения из пункта 1 и реализуйте его. Способ нужно аргументировать(сказать почему это достаточно хорошее приближение)"
   ]
  },
  {
   "cell_type": "markdown",
   "id": "badfb09c",
   "metadata": {},
   "source": [
    "сначала посчитаем среднюю площадь жилых комнат по валидным строкам\n",
    "\n",
    "потом среднее отношение жилой площади к общей площади по валидным строкам\n",
    "\n",
    "для каждой строки с отсутсвующим значением life_sq проставляем значения:\n",
    "\n",
    "-- количество комнат * средняя площадь комнаты, есди параметр num_room существует и больше нуля;\n",
    "\n",
    "-- полная площадь * среднее отношение жилой площади к полной площади, если параметр full_sq существует и больше нуля;\n",
    "\n",
    "-- средняя площадь по всем строкам в остальных случаях.\n",
    "\n",
    "\n",
    "почему достаточно хорошее приближение:\n",
    "\n",
    "вычисляемые данные основываются на средних значениях из уже имеющихся, поэтому не сильно изменяют глобальные средние значения"
   ]
  },
  {
   "cell_type": "code",
   "id": "ac0fb641-96d2-4e7c-88d5-636ce3b699d2",
   "metadata": {},
   "source": [
    "missing_life_sq = data_set[\"life_sq\"].isnull()\n",
    "\n",
    "valid_rooms_data = data_set[data_set[\"life_sq\"].notnull() & data_set[\"num_room\"].notnull() & (data_set[\"num_room\"] > 0)]\n",
    "avg_room_area = (valid_rooms_data[\"life_sq\"] / valid_rooms_data[\"num_room\"]).mean()\n",
    "\n",
    "valid_life_sq_data = data_set[data_set[\"life_sq\"].notnull() & data_set[\"full_sq\"].notnull() & (data_set[\"full_sq\"] > 0)]\n",
    "mean_ratio = (valid_life_sq_data[\"life_sq\"] / valid_life_sq_data[\"full_sq\"]).mean()\n",
    "\n",
    "mean_life_sq = data_set[\"life_sq\"].mean()\n",
    "\n",
    "data_set.loc[missing_life_sq, \"life_sq\"] = data_set.loc[missing_life_sq].apply(\n",
    "    lambda row:\n",
    "        row[\"num_room\"] * avg_room_area if pd.notnull(row[\"num_room\"]) and (row[\"num_room\"] > 0) else\n",
    "        row[\"full_sq\"] * mean_ratio if pd.isnull(row[\"life_sq\"]) and (row[\"full_sq\"] > 0) else\n",
    "        mean_life_sq,\n",
    "    axis=1\n",
    ")"
   ],
   "outputs": [],
   "execution_count": null
  },
  {
   "cell_type": "markdown",
   "id": "cd7979ba-2fa8-4fd3-986d-26cee122da1f",
   "metadata": {},
   "source": [
    "3. Какие значения имеет 25, 50 и 75 перцентили полной площади помещения"
   ]
  },
  {
   "cell_type": "code",
   "id": "3915f77b-116c-482b-8644-2f5f11931af9",
   "metadata": {},
   "source": [
    "percentiles = data_set[\"full_sq\"].quantile([0.25, 0.5, 0.75])\n",
    "print(percentiles)"
   ],
   "outputs": [],
   "execution_count": null
  },
  {
   "cell_type": "markdown",
   "id": "1b69ba67-61a8-4765-9795-cfab1a09e929",
   "metadata": {},
   "source": [
    "4. Посчитайте среднюю стоимость продажи помещений с общей площадью от 50 до 70 квадратных метров"
   ]
  },
  {
   "cell_type": "code",
   "id": "1228d2e9-fc56-4240-95c6-c98a8b84c016",
   "metadata": {},
   "source": [
    "filtered_ds = data_set[(data_set[\"full_sq\"] >= 50) & (data_set[\"full_sq\"] <= 70)]\n",
    "avg_price = filtered_ds[\"price_doc\"].mean()"
   ],
   "outputs": [],
   "execution_count": null
  },
  {
   "cell_type": "markdown",
   "id": "5acec4fd-f740-49a8-a5d8-562d358239c9",
   "metadata": {},
   "source": [
    "5. Какая максимальная этажность здания представлена в датасете"
   ]
  },
  {
   "cell_type": "code",
   "id": "cac8daef-f4e8-4c8b-b7f4-d41a6adf35ed",
   "metadata": {},
   "source": [
    "print(data_set[\"max_floor\"].max())"
   ],
   "outputs": [],
   "execution_count": null
  },
  {
   "cell_type": "markdown",
   "id": "8d6171a9-0f75-4f3e-ac54-95d03d1f70b6",
   "metadata": {},
   "source": [
    "6. Выявите район с самым дорогим жильем"
   ]
  },
  {
   "cell_type": "code",
   "id": "c64d0892-2fb8-4304-966c-5cbb32b03c0a",
   "metadata": {},
   "source": [
    "most_expnesive_region = data_set.groupby(\"sub_area\")[\"price_doc\"].mean().idxmax()\n",
    "print(most_expnesive_region)"
   ],
   "outputs": [],
   "execution_count": null
  },
  {
   "cell_type": "markdown",
   "id": "d29320f9-aef8-452c-9d61-0afa72dd93b6",
   "metadata": {},
   "source": [
    "7. Посчитайте среднюю стоимость за квадратный метр жилья в Митино(Mitino)"
   ]
  },
  {
   "cell_type": "code",
   "id": "d04e1904-f9f3-40bd-abbd-4d53ee9f7bd2",
   "metadata": {},
   "source": [
    "mitino_ds = data_set[data_set[\"sub_area\"] == \"Mitino\"]\n",
    "avg_sq_cost = (mitino_ds[\"price_doc\"] / mitino_ds[\"full_sq\"]).mean()"
   ],
   "outputs": [],
   "execution_count": null
  },
  {
   "cell_type": "markdown",
   "id": "1d447d6e-cfde-411c-9078-cd8f41f02d8b",
   "metadata": {},
   "source": [
    "8. Посчитайте среднюю площадь комнаты в Бибирево"
   ]
  },
  {
   "cell_type": "code",
   "id": "b30df6b1-5eca-43da-a115-1c1a3cbfd899",
   "metadata": {},
   "source": [
    "bibirevo_ds = data_set[data_set[\"sub_area\"] == \"Bibirevo\"]\n",
    "avg_bibirevo_room_area = (bibirevo_ds[\"life_sq\"] / bibirevo_ds[\"num_room\"]).mean()"
   ],
   "outputs": [],
   "execution_count": null
  },
  {
   "cell_type": "markdown",
   "id": "c41d5d99-65f7-4d17-82ae-971ec959f327",
   "metadata": {},
   "source": [
    "9. Проанализируйте есть ли разница в цене между квартирами на 1 и 9 этажах"
   ]
  },
  {
   "cell_type": "code",
   "id": "275bcc04-659b-4521-a9e5-200a5f4ef674",
   "metadata": {},
   "source": [
    "first_floor = data_set[data_set[\"floor\"] == 1][\"price_doc\"].mean()\n",
    "ninth_floor = data_set[data_set[\"floor\"] == 9][\"price_doc\"].mean()\n",
    "print(f\"difference: {first_floor - ninth_floor}\")"
   ],
   "outputs": [],
   "execution_count": null
  },
  {
   "cell_type": "markdown",
   "id": "a1f7a5c0-259c-4837-a5d1-2dfc05e7c13e",
   "metadata": {},
   "source": [
    "10. Найдите минимальную стоимость квартиры с жилой площадью не менее 60 квадратных метров, не менее чем 3мя комнатами и не ниже чем на 5 этаже"
   ]
  },
  {
   "cell_type": "code",
   "id": "a2da4d57-edb4-4179-8bee-3deda6cd00e6",
   "metadata": {},
   "source": [
    "filtered_ds = data_set[\n",
    "    (data_set[\"life_sq\"] >= 60) &\n",
    "    (data_set[\"num_room\"] >= 3) &\n",
    "    (data_set[\"floor\"] >= 5)\n",
    "]\n",
    "min_price = filtered_ds[\"price_doc\"].min()\n",
    "print(min_price)"
   ],
   "outputs": [],
   "execution_count": null
  },
  {
   "cell_type": "markdown",
   "id": "deb4ca3a-3d8a-4205-bee9-d26fd28638b2",
   "metadata": {},
   "source": [
    "### 3. Визуализация"
   ]
  },
  {
   "cell_type": "markdown",
   "id": "f8941ce1-cbf2-465a-b013-1b84aeb999ef",
   "metadata": {},
   "source": [
    "Используя библиотеки matplotlib/sns/plotly/pandas и набор данных представленный ранее визуализируйте"
   ]
  },
  {
   "cell_type": "markdown",
   "id": "5e98ce6f-8d02-4120-ad85-241494c038d6",
   "metadata": {},
   "source": [
    "1. Как менялась средняя цена квартиры в Нагатинском Затоне(Nagatinski Zaton) с течением времени"
   ]
  },
  {
   "cell_type": "markdown",
   "metadata": {},
   "source": [
    "*в табличке `Nagatinskij Zaton`"
   ],
   "id": "55a516f9dcc73238"
  },
  {
   "cell_type": "code",
   "id": "664666b2-17b7-49dd-a3bd-c4be9361755d",
   "metadata": {},
   "source": [
    "import matplotlib.pyplot as plt\n",
    "import matplotlib.ticker as ticker\n",
    "\n",
    "nz_data = data_set[data_set[\"sub_area\"] == \"Nagatinskij Zaton\"]\n",
    "\n",
    "nz_data[\"timestamp\"] = pd.to_datetime(nz_data[\"timestamp\"])\n",
    "avg_month_price = nz_data.groupby(nz_data[\"timestamp\"].dt.to_period(\"M\"))[\"price_doc\"].mean()\n",
    "\n",
    "def millions_formatter(x, pos):\n",
    "    return f'{x * 1e-6:.1f}'\n",
    "\n",
    "plt.figure(figsize=(14, 6))\n",
    "avg_month_price.plot(kind=\"line\")\n",
    "plt.gca().yaxis.set_major_formatter(ticker.FuncFormatter(millions_formatter))\n",
    "plt.xlabel(\"месяц\")\n",
    "plt.ylabel(\"средняя стоимость, млн у.е.\")\n",
    "plt.show()"
   ],
   "outputs": [],
   "execution_count": null
  },
  {
   "cell_type": "markdown",
   "id": "4c7500bb-36ca-4ea7-bc3c-4f15afbd4c41",
   "metadata": {},
   "source": [
    "2. Постройте гистограмму распределения цен на квартиры с общей площадью более 50 кв.метров"
   ]
  },
  {
   "cell_type": "code",
   "id": "7325e7f8-5f00-4a82-8184-7064505f7ccd",
   "metadata": {},
   "source": [
    "import matplotlib.pyplot as plt\n",
    "import seaborn as sns\n",
    "\n",
    "filtered_ds = data_set[data_set[\"full_sq\"] > 50]\n",
    "\n",
    "def millions_formatter(x, pos):\n",
    "    return f'{x * 1e-6:.1f}'\n",
    "\n",
    "plt.figure(figsize=(10, 6))\n",
    "plt.grid()\n",
    "sns.histplot(filtered_ds[\"price_doc\"], bins=30, color=\"blue\")\n",
    "plt.gca().xaxis.set_major_formatter(ticker.FuncFormatter(millions_formatter))\n",
    "plt.xlabel(\"стоимость\")\n",
    "plt.ylabel(\"количество квартир\")\n",
    "plt.show()\n"
   ],
   "outputs": [],
   "execution_count": null
  },
  {
   "cell_type": "markdown",
   "id": "efdd0669-36e0-4708-ac6b-ad0d92881113",
   "metadata": {},
   "source": [
    "3. Визуализируйте количество проданных квартир в разных районах"
   ]
  },
  {
   "cell_type": "markdown",
   "id": "5cfa5082",
   "metadata": {},
   "source": [
    "фан факт: plotly багает в ipynb на версии >= 6.0 и вместо значений пишет индексы элементов"
   ]
  },
  {
   "cell_type": "code",
   "id": "7504a170-04a1-4b86-924d-8d46be16fd3c",
   "metadata": {},
   "source": [
    "import plotly.express as px\n",
    "\n",
    "sales_by_area = data_set[\"sub_area\"].value_counts().reset_index()\n",
    "sales_by_area.columns = [\"sub_area\", \"count\"]\n",
    "\n",
    "fig = px.bar(\n",
    "    sales_by_area,\n",
    "    x=\"sub_area\",\n",
    "    y=\"count\",\n",
    "    labels={\"sub_area\": \"район\", \"count\": \"продажи\"},\n",
    "    height=600\n",
    ")\n",
    "\n",
    "fig.update_xaxes(\n",
    "    tickangle=45,\n",
    "    tickfont=dict(size=10),\n",
    "    rangeslider_visible=True\n",
    ")\n",
    "fig.update_layout(\n",
    "    xaxis={\"categoryorder\": \"total descending\"},\n",
    "    margin=dict(l=50, r=50, t=50, b=100)\n",
    ")\n",
    "\n",
    "fig.show()"
   ],
   "outputs": [],
   "execution_count": null
  },
  {
   "cell_type": "markdown",
   "id": "b5839a48-e992-45fc-81ee-59cb5aa79dda",
   "metadata": {},
   "source": [
    "4. Постройте box plot отображающий распределение полных площадей квартир в Басманном районе"
   ]
  },
  {
   "cell_type": "code",
   "id": "1a942378-45ea-47a0-bac9-488960491613",
   "metadata": {},
   "source": [
    "import matplotlib.pyplot as plt\n",
    "import seaborn as sns\n",
    "\n",
    "b_data = data_set[data_set[\"sub_area\"] == \"Basmannoe\"]\n",
    "\n",
    "plt.figure(figsize=(8, 6))\n",
    "sns.boxplot(x=b_data[\"full_sq\"])\n",
    "plt.xlabel(\"full square\")\n",
    "plt.show()"
   ],
   "outputs": [],
   "execution_count": null
  },
  {
   "cell_type": "markdown",
   "id": "d4c97bef-bb64-43cc-a89f-7510174492ec",
   "metadata": {},
   "source": [
    "5. Визуализируйте зависимость средней стоимости квартир в зависимости от этажа"
   ]
  },
  {
   "cell_type": "code",
   "id": "a1f444af-3544-432c-8dc6-bb74d4cff272",
   "metadata": {},
   "source": [
    "import matplotlib.pyplot as plt\n",
    "\n",
    "avg_price_by_floor = data_set.groupby('floor')['price_doc'].mean()\n",
    "\n",
    "def millions_formatter(x, pos):\n",
    "    return f'{x * 1e-6:.1f}'\n",
    "\n",
    "plt.figure(figsize=(12, 6))\n",
    "plt.gca().yaxis.set_major_formatter(ticker.FuncFormatter(millions_formatter))\n",
    "avg_price_by_floor.plot(kind=\"line\")\n",
    "plt.xlabel(\"этаж\")\n",
    "plt.ylabel(\"средняя стоимость, млн у.е.\")\n",
    "plt.grid()\n",
    "plt.show()"
   ],
   "outputs": [],
   "execution_count": null
  },
  {
   "cell_type": "markdown",
   "id": "a2ab764c-8ac1-4c5a-93ad-8168b0eb4934",
   "metadata": {},
   "source": [
    "6. Покажите как меняется средняя площадь квартир в зависимости от района"
   ]
  },
  {
   "cell_type": "code",
   "id": "6449e306-fb6c-46d4-bcd8-b6b76fbf69d2",
   "metadata": {},
   "source": [
    "import plotly.express as px\n",
    "\n",
    "avg_area_by_sub_area = data_set.groupby(\"sub_area\")[\"full_sq\"].mean().sort_values().reset_index()\n",
    "avg_area_by_sub_area.columns = [\"sub_area\", \"avg_sq\"]\n",
    "\n",
    "fig = px.bar(\n",
    "    avg_area_by_sub_area,\n",
    "    x=\"sub_area\",\n",
    "    y=\"avg_sq\",\n",
    "    labels={\"avg_sq\" : \"средняя площадь\", \"sub_area\" : \"район\"},\n",
    "    height=800\n",
    ")\n",
    "\n",
    "fig.update_xaxes(\n",
    "    tickangle=45,\n",
    "    tickfont=dict(size=10),\n",
    "    rangeslider_visible=True\n",
    ")\n",
    "\n",
    "fig.update_layout(\n",
    "    yaxis={\"categoryorder\" : \"total descending\"},\n",
    ")\n",
    "\n",
    "fig.show()"
   ],
   "outputs": [],
   "execution_count": null
  },
  {
   "cell_type": "markdown",
   "id": "16afdeec-8c90-4ed1-a599-e0b1343bbf5c",
   "metadata": {},
   "source": [
    "7. Постройте график изменения медианной цены на квартиру менее 50 кв. метров за период с 2011 до 2014 года*\n",
    "\n",
    "\\* Задание на доп. балл"
   ]
  },
  {
   "cell_type": "code",
   "id": "e10d0cc7-a1ca-4204-a875-b1660e44618d",
   "metadata": {},
   "source": [
    "filtered_data = data_set[\n",
    "    (data_set[\"full_sq\"] < 50) & \n",
    "    (data_set[\"timestamp\"] >= \"2011-01-01\") & \n",
    "    (data_set[\"timestamp\"] <= \"2014-12-31\")]\n",
    "\n",
    "filtered_data[\"timestamp\"] = pd.to_datetime(filtered_data[\"timestamp\"])\n",
    "median_price_by_month = filtered_data.groupby(filtered_data[\"timestamp\"].dt.to_period('M'))[\"price_doc\"].median()\n",
    "\n",
    "def millions_formatter(x, pos):\n",
    "    return f'{x * 1e-6:.1f}'\n",
    "\n",
    "plt.figure(figsize=(14, 6))\n",
    "plt.gca().yaxis.set_major_formatter(ticker.FuncFormatter(millions_formatter))\n",
    "median_price_by_month.plot(kind=\"line\")\n",
    "plt.xlabel(\"месяц\")\n",
    "plt.ylabel(\"медианная стоимость, млн у.е.\")\n",
    "plt.grid()\n",
    "plt.show()"
   ],
   "outputs": [],
   "execution_count": null
  }
 ],
 "metadata": {
  "kernelspec": {
   "display_name": "Python 3.10.5 64-bit",
   "language": "python",
   "name": "python3"
  },
  "language_info": {
   "codemirror_mode": {
    "name": "ipython",
    "version": 3
   },
   "file_extension": ".py",
   "mimetype": "text/x-python",
   "name": "python",
   "nbconvert_exporter": "python",
   "pygments_lexer": "ipython3",
   "version": "3.10.5"
  },
  "vscode": {
   "interpreter": {
    "hash": "bff01883845e46ef4080c98d383a1d41141326aacfee097466d959b41571b29e"
   }
  }
 },
 "nbformat": 4,
 "nbformat_minor": 5
}
